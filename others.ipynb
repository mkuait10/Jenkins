{
 "cells": [
  {
   "cell_type": "markdown",
   "metadata": {},
   "source": [
    "- DevOps is a software development approach which involves continuous development, continuous testing, continuous integration, continuous deployment, and continuous monitoring of the software throughout its development lifecycle."
   ]
  },
  {
   "cell_type": "markdown",
   "metadata": {},
   "source": [
    "- The master and slave architecture for Jenkins is used in a build environment where there is a distribution of workload for different projects to a number of agent nodes. Different environments can be used for each build."
   ]
  },
  {
   "cell_type": "markdown",
   "metadata": {},
   "source": [
    "- Upstream Job -> Actual Job -> Downstream Job"
   ]
  },
  {
   "cell_type": "markdown",
   "metadata": {},
   "source": [
    "- Interview questions: <br/>\n",
    "   --  https://www.edureka.co/blog/interview-questions/jenkins-interview-questions/  <br/>\n",
    "   --  https://www.softwaretestinghelp.com/jenkins-interview-questions/"
   ]
  },
  {
   "cell_type": "markdown",
   "metadata": {},
   "source": [
    "### Features\n",
    " - Security- enable security, Ldap/user directory, project based matrix access\n",
    " - send emails\n",
    " - Pipelines : Series of actions\n",
    " - Back up plugin\n",
    " - Crons\n",
    " - jenkinsfile: The text file where all the definitions of pipelines are defined is called Jenkinsfile. It is\n",
    "     being checked in the source control repository."
   ]
  }
 ],
 "metadata": {
  "kernelspec": {
   "display_name": "Python 3",
   "language": "python",
   "name": "python3"
  },
  "language_info": {
   "codemirror_mode": {
    "name": "ipython",
    "version": 3
   },
   "file_extension": ".py",
   "mimetype": "text/x-python",
   "name": "python",
   "nbconvert_exporter": "python",
   "pygments_lexer": "ipython3",
   "version": "3.6.5"
  }
 },
 "nbformat": 4,
 "nbformat_minor": 2
}
