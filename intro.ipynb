{
 "cells": [
  {
   "cell_type": "markdown",
   "metadata": {},
   "source": [
    "### Jenkins Pipeline - align  build process of a project. "
   ]
  },
  {
   "cell_type": "markdown",
   "metadata": {},
   "source": [
    "#### Jenkins supports two different pioeline syntaxes: (available from 2.0 onwards)\n",
    "\n",
    "- 1> Declarative (since Pipeline version 2.5) \n",
    "  - New style of writing logic in jenkinsfile, which is committed in SCM\n",
    "\n",
    "- 2> Scripted\n",
    "   - old tradional way, directly writing inside jenkins job config."
   ]
  },
  {
   "cell_type": "markdown",
   "metadata": {},
   "source": [
    "#### 1> Declarative - more simplified like Declarative."
   ]
  },
  {
   "cell_type": "code",
   "execution_count": null,
   "metadata": {},
   "outputs": [],
   "source": [
    "pipeline {\n",
    "    agent none \n",
    "    stages {\n",
    "        stage('Test') {\n",
    "            agent any\n",
    "            steps {\n",
    "                echo 'testing stuff ...'\n",
    "                \n",
    "            }\n",
    "        }  \n",
    "        stage('Docker') {\n",
    "            agent { docker 'maven:3-alpine' } \n",
    "            steps {\n",
    "                echo 'Hello, Maven'\n",
    "                sh 'mvn --version'\n",
    "            }\n",
    "        }\n",
    "        stage('Java test') {\n",
    "            agent { docker 'openjdk:8-jre' } \n",
    "            steps {\n",
    "                echo 'Hello, JDK'\n",
    "                sh 'java -version'\n",
    "            }\n",
    "        }\n",
    "    }\n",
    "}"
   ]
  },
  {
   "cell_type": "markdown",
   "metadata": {},
   "source": [
    "#### 2> Scripted Pipeline - Exactly like Groovy.\n",
    "- Scripted Pipeline is serially executed from the top of a Jenkinsfile downwards."
   ]
  },
  {
   "cell_type": "code",
   "execution_count": null,
   "metadata": {},
   "outputs": [],
   "source": [
    "node {\n",
    "    stage('Example') {\n",
    "        if (env.BRANCH_NAME == 'master') {\n",
    "            echo 'I only execute on the master branch'\n",
    "        } else {\n",
    "            echo 'I execute elsewhere'\n",
    "        }\n",
    "    }\n",
    "}"
   ]
  },
  {
   "cell_type": "markdown",
   "metadata": {},
   "source": [
    "### Agent Directive \n",
    " - specifies the execution point for the entire pipeline or any specific stage in the pipeline. \n"
   ]
  },
  {
   "cell_type": "markdown",
   "metadata": {},
   "source": [
    "### Ways to create Pipeline:"
   ]
  },
  {
   "cell_type": "markdown",
   "metadata": {},
   "source": [
    "1> Through Blue Ocean - after setting up a Pipeline project in Blue Ocean, the Blue Ocean UI helps you write your \n",
    "   Pipeline’s Jenkinsfile and commit it to source control.\n",
    "\n",
    "2> Through the classic UI - you can enter a basic Pipeline directly in Jenkins through the classic UI.\n",
    "\n",
    "3> In SCM - you can write a Jenkinsfile manually, which you can commit to your project’s source control repository."
   ]
  },
  {
   "cell_type": "markdown",
   "metadata": {},
   "source": [
    "### Pipeline script default name - Jenkinsfile"
   ]
  }
 ],
 "metadata": {
  "kernelspec": {
   "display_name": "Python 3",
   "language": "python",
   "name": "python3"
  },
  "language_info": {
   "codemirror_mode": {
    "name": "ipython",
    "version": 3
   },
   "file_extension": ".py",
   "mimetype": "text/x-python",
   "name": "python",
   "nbconvert_exporter": "python",
   "pygments_lexer": "ipython3",
   "version": "3.6.5"
  }
 },
 "nbformat": 4,
 "nbformat_minor": 2
}
